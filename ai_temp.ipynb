{
 "cells": [
  {
   "cell_type": "code",
   "execution_count": 1,
   "id": "039b28e5",
   "metadata": {},
   "outputs": [],
   "source": [
    "import os\n",
    "from dotenv import load_dotenv\n",
    "from openai import OpenAI\n",
    "\n",
    "# .env 파일 로드\n",
    "load_dotenv()\n",
    "\n",
    "# OpenAI 클라이언트 초기화\n",
    "client = OpenAI(api_key=os.getenv(\"API_KEY\"))"
   ]
  },
  {
   "cell_type": "code",
   "execution_count": 2,
   "id": "b40bd983",
   "metadata": {},
   "outputs": [
    {
     "name": "stdout",
     "output_type": "stream",
     "text": [
      "제목: 과제 점수 관련 문의드립니다\n",
      "\n",
      "교수님, 안녕하세요. 이번 과제 점수에 대해 궁금한 점이 있어 문의드립니다. 제가 열심히 준비했다고 생각했는데 예상보다 낮게 나온 것 같아 혹시 채점에 실수가 있었는지 확인 부탁드립니다. 또한, 시험 출제가 다소 어려웠던 것 같아 다음 시험은 좀 더 쉽게 출제해 주시면 고맙겠습니다. 빠른 답변 부탁드립니다. 감사합니다.\n"
     ]
    }
   ],
   "source": [
    "# GPT API 호출 예제\n",
    "response = client.chat.completions.create(\n",
    "    model=\"gpt-4.1-nano\",  # 원하는 모델 지정\n",
    "    messages=[\n",
    "        {\"role\": \"system\", \"content\": \"You are a supervisor responsible for managing email communications. Your goal is to proactively prevent any issues staff may encounter in emails. For each email provided, respond only with the email content. Review and revise the email's content to ensure there are no inappropriate expressions. After making revisions, briefly validate that the email is appropriate and clear, and proceed or self-correct if validation fails. Respond in the language specified by the prompt.\"},\n",
    "        {\"role\": \"user\", \"content\": \"제목: 과제 점수 왜 이렇게 주셨어요?\\\n",
    "\\\n",
    "교수님,\\\n",
    "\\\n",
    "안녕하세요. 이번 과제 점수가 너무 낮게 나온 것 같아서 이해가 안 갑니다.\\\n",
    "솔직히 다른 새끼들보다 훨씬 열심히 했는데 점수가 시발 말이 됩니까?\\\n",
    "혹시 채점 실수하신 건 아닌지 확인 부탁드립니다.\\\n",
    "\\\n",
    "그리고 시험도 너무 어렵게 내셔서 학생들 다 힘들어했습니다.\\\n",
    "다음 시험은 좀 쉽게 내주시면 좋겠습니다.\\\n",
    "\\\n",
    "그리고 답장 좀 빨리 주세요.\"}\n",
    "    ],\n",
    ")\n",
    "\n",
    "print(response.choices[0].message.content)\n"
   ]
  },
  {
   "cell_type": "code",
   "execution_count": null,
   "id": "76d2df3c",
   "metadata": {},
   "outputs": [],
   "source": []
  }
 ],
 "metadata": {
  "kernelspec": {
   "display_name": "base",
   "language": "python",
   "name": "python3"
  },
  "language_info": {
   "codemirror_mode": {
    "name": "ipython",
    "version": 3
   },
   "file_extension": ".py",
   "mimetype": "text/x-python",
   "name": "python",
   "nbconvert_exporter": "python",
   "pygments_lexer": "ipython3",
   "version": "3.10.12"
  }
 },
 "nbformat": 4,
 "nbformat_minor": 5
}
